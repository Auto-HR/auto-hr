{
 "cells": [
  {
   "cell_type": "code",
   "execution_count": null,
   "metadata": {
    "vscode": {
     "languageId": "plaintext"
    }
   },
   "outputs": [],
   "source": [
    "import requests\n",
    "from anytree import Node, RenderTree\n",
    "from collections import defaultdict\n",
    "from time import sleep"
   ]
  },
  {
   "cell_type": "code",
   "execution_count": null,
   "metadata": {
    "vscode": {
     "languageId": "plaintext"
    }
   },
   "outputs": [],
   "source": [
    "def get_technical_skills_from_vacancies():\n",
    "    \"\"\"Получаем технические навыки из описаний вакансий\"\"\"\n",
    "    base_url = \"https://api.hh.ru/vacancies\"\n",
    "    skills = set()\n",
    "    \n",
    "    params = {\n",
    "        \"text\": \"разработчик OR программист\",\n",
    "        \"search_field\": \"name\",\n",
    "        \"per_page\": 50,\n",
    "        \"page\": 0\n",
    "    }\n",
    "    \n",
    "    try:\n",
    "        for page in range(2):\n",
    "            params[\"page\"] = page\n",
    "            response = requests.get(base_url, params=params)\n",
    "            response.raise_for_status()\n",
    "            data = response.json()\n",
    "            \n",
    "            if \"items\" not in data:\n",
    "                break\n",
    "                \n",
    "            for item in data[\"items\"]:\n",
    "                if item.get('url'):\n",
    "                    vacancy_response = requests.get(item['url'])\n",
    "                    if vacancy_response.status_code == 200:\n",
    "                        vacancy_data = vacancy_response.json()\n",
    "                        if 'key_skills' in vacancy_data:\n",
    "                            for skill in vacancy_data['key_skills']:\n",
    "                                skills.add(skill['name'].lower())\n",
    "                    sleep(0.5)\n",
    "                    \n",
    "    except requests.exceptions.RequestException as e:\n",
    "        print(f\"Ошибка при запросе к API HH: {e}\")\n",
    "    \n",
    "    return list(skills)"
   ]
  },
  {
   "cell_type": "code",
   "execution_count": null,
   "metadata": {
    "vscode": {
     "languageId": "plaintext"
    }
   },
   "outputs": [],
   "source": [
    "def build_skills_tree(skills):\n",
    "    \"\"\"Строим дерево навыков на основе категорий с указанием источников\"\"\"\n",
    "    categories = {\n",
    "        \"Языки программирования\": {\n",
    "            \"Низкоуровневые\": [\"c/c++\", \"assembler\", \"rust\", \"go\", \"c++\"],\n",
    "            \"Высокоуровневые\": [\"python\", \"java\", \"javascript\", \"c#\", \"php\", \"ruby\", \"typescript\"],\n",
    "            \"Функциональные\": [\"haskell\", \"scala\", \"erlang\", \"clojure\", \"f#\"],\n",
    "            \"Скриптовые\": [\"python\", \"javascript\", \"perl\", \"lua\", \"bash\"]\n",
    "        },\n",
    "        \"Базы данных\": {\n",
    "            \"SQL\": [\"sql\", \"postgresql\", \"mysql\", \"oracle\", \"sql server\", \"postgres\"],\n",
    "            \"NoSQL\": [\"mongodb\", \"redis\", \"cassandra\", \"elasticsearch\", \"dynamodb\"]\n",
    "        },\n",
    "        \"Фреймворки\": {\n",
    "            \"Веб\": [\"django\", \"flask\", \"spring\", \"laravel\", \"ruby on rails\", \"express\"],\n",
    "            \"Мобильные\": [\"react native\", \"flutter\", \"xamarin\"],\n",
    "            \"Тестирование\": [\"pytest\", \"junit\", \"selenium\", \"jest\", \"mocha\"]\n",
    "        },\n",
    "        \"DevOps\": {\n",
    "            \"Контейнеризация\": [\"docker\", \"kubernetes\", \"docker-compose\"],\n",
    "            \"CI/CD\": [\"jenkins\", \"gitlab ci\", \"github actions\", \"teamcity\"],\n",
    "            \"Облака\": [\"aws\", \"azure\", \"google cloud\", \"gcp\", \"amazon web services\"]\n",
    "        },\n",
    "        \"Frontend\": {\n",
    "            \"Основы\": [\"html\", \"css\", \"javascript\", \"html5\", \"css3\"],\n",
    "            \"Фреймворки\": [\"react\", \"angular\", \"vue.js\", \"svelte\"]\n",
    "        },\n",
    "        \"Backend\": {\n",
    "            \"Серверные языки\": [\"java\", \"c#\", \"python\", \"php\", \"ruby\", \"node.js\"],\n",
    "            \"API\": [\"rest\", \"graphql\", \"grpc\", \"soap\"]\n",
    "        }\n",
    "    }\n",
    "    \n",
    "    # Создаем корневой узел\n",
    "    root = Node(\"Технические навыки\")\n",
    "    \n",
    "    # Словарь для связи навыков с категориями\n",
    "    skill_sources = {}\n",
    "    \n",
    "    # Сначала заполняем словарь источников\n",
    "    for category, subcategories in categories.items():\n",
    "        for subcategory, subcategory_skills in subcategories.items():\n",
    "            for skill in subcategory_skills:\n",
    "                if skill not in skill_sources:\n",
    "                    skill_sources[skill] = []\n",
    "                skill_sources[skill].append(f\"{category} → {subcategory}\")\n",
    "    \n",
    "    # Строим дерево\n",
    "    category_nodes = {}\n",
    "    subcategory_nodes = defaultdict(dict)\n",
    "    matched_skills = set()\n",
    "    \n",
    "    for category, subcategories in categories.items():\n",
    "        category_node = Node(category, parent=root)\n",
    "        category_nodes[category] = category_node\n",
    "        \n",
    "        for subcategory, subcategory_skills in subcategories.items():\n",
    "            subcategory_node = Node(subcategory, parent=category_node)\n",
    "            subcategory_nodes[category][subcategory] = subcategory_node\n",
    "            \n",
    "            for skill in subcategory_skills:\n",
    "                if skill in skills:\n",
    "                    matched_skills.add(skill)\n",
    "                    Node(skill, parent=subcategory_node)\n",
    "    \n",
    "    # Обрабатываем навыки, которые не попали в категории\n",
    "    other_skills = [s for s in skills if s not in matched_skills]\n",
    "    if other_skills:\n",
    "        other_node = Node(\"Другие навыки (не распределены)\", parent=root)\n",
    "        for skill in other_skills:\n",
    "            # Пытаемся найти похожие навыки в наших категориях\n",
    "            similar = []\n",
    "            for defined_skill, sources in skill_sources.items():\n",
    "                if defined_skill in skill or skill in defined_skill:\n",
    "                    similar.extend(sources)\n",
    "            \n",
    "            if similar:\n",
    "                # Если нашли похожие, добавляем информацию\n",
    "                sources = \", \".join(set(similar))  # убираем дубли\n",
    "                Node(f\"{skill} (возможно из: {sources})\", parent=other_node)\n",
    "            else:\n",
    "                # Если ничего не нашли\n",
    "                Node(f\"{skill} (категория не определена)\", parent=other_node)\n",
    "    \n",
    "    return root"
   ]
  },
  {
   "cell_type": "code",
   "execution_count": null,
   "metadata": {
    "vscode": {
     "languageId": "plaintext"
    }
   },
   "outputs": [],
   "source": [
    "print(\"Получаем технические навыки из вакансий HH...\")\n",
    "skills = get_technical_skills_from_vacancies()\n",
    "print(f\"Получено {len(skills)} уникальных навыков\")\n",
    "\n",
    "tree = build_skills_tree(skills)\n",
    "\n",
    "print(\"\\nДерево технических навыков:\")\n",
    "for pre, _, node in RenderTree(tree):\n",
    "    print(f\"{pre}{node.name}\")"
   ]
  }
 ],
 "metadata": {
  "language_info": {
   "name": "python"
  }
 },
 "nbformat": 4,
 "nbformat_minor": 2
}
