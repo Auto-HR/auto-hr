{
 "cells": [
  {
   "cell_type": "markdown",
   "metadata": {
    "notebookRunGroups": {
     "groupValue": "1"
    }
   },
   "source": [
    "# Анализ вакансий и определение грейда по резюме"
   ]
  },
  {
   "cell_type": "markdown",
   "metadata": {},
   "source": [
    "## Данный ноутбук содержит две части:\n",
    "1. Определение шкалы для определения грейда для резюме по спаршенным вакансиям из API HH\n",
    "2. Построение синтетического датасета состоящий из резюме, где x = навыки, y = грейд(junior/middle/senior). Затем дообучение модели на этом датасете и анализ качеста генерации."
   ]
  },
  {
   "cell_type": "code",
   "execution_count": 3,
   "metadata": {
    "execution": {
     "iopub.execute_input": "2025-06-28T10:42:23.188626Z",
     "iopub.status.busy": "2025-06-28T10:42:23.187690Z",
     "iopub.status.idle": "2025-06-28T10:42:23.192967Z",
     "shell.execute_reply": "2025-06-28T10:42:23.192174Z",
     "shell.execute_reply.started": "2025-06-28T10:42:23.188600Z"
    },
    "trusted": true
   },
   "outputs": [],
   "source": [
    "import torch\n",
    "import pandas as pd\n",
    "import numpy as np\n",
    "import random\n",
    "import requests\n",
    "import matplotlib.pyplot as plt\n",
    "import seaborn as sns\n",
    "\n",
    "from sklearn.model_selection import train_test_split\n",
    "from sklearn.metrics import accuracy_score, classification_report, confusion_matrix\n",
    "\n",
    "from transformers import BertTokenizer, BertForSequenceClassification, Trainer, TrainingArguments\n",
    "from transformers import DataCollatorWithPadding\n",
    "from collections import defaultdict"
   ]
  },
  {
   "cell_type": "code",
   "execution_count": 4,
   "metadata": {
    "execution": {
     "iopub.execute_input": "2025-06-28T10:42:37.508671Z",
     "iopub.status.busy": "2025-06-28T10:42:37.508421Z",
     "iopub.status.idle": "2025-06-28T10:42:37.517378Z",
     "shell.execute_reply": "2025-06-28T10:42:37.516509Z",
     "shell.execute_reply.started": "2025-06-28T10:42:37.508654Z"
    },
    "trusted": true
   },
   "outputs": [],
   "source": [
    "SKILLS_TREE = {\n",
    "    \"Языки программирования\": {\n",
    "        \"Низкоуровневые\": [\"c/с++\", \"c\", \"assembler\", \"rust\", \"go\", \"c++\", \"golang\"],\n",
    "        \"Высокоуровневые\": [\"python\", \"java\", \"javascript\", \"c#\", \"php\", \"ruby\", \"typescript\", \"matlab\"],\n",
    "        \"Функциональные\": [\"haskell\", \"scala\", \"erlang\", \"clojure\", \"f#\"],\n",
    "        \"Скриптовые\": [\"python\", \"javascript\", \"perl\", \"lua\", \"bash\"]\n",
    "    },\n",
    "    \"Базы данных\": {\n",
    "        \"SQL\": [\"sql\", \"postgresql\", \"mysql\", \"oracle\", \"sql server\", \"postgres\"],\n",
    "        \"NoSQL\": [\"mongodb\", \"redis\", \"cassandra\", \"elasticsearch\", \"dynamodb\"]\n",
    "    },\n",
    "    \"Фреймворки\": {\n",
    "        \"Веб\": [\"django\", \"flask\", \"spring\", \"laravel\", \"ruby on rails\", \"express\"],\n",
    "        \"Мобильные\": [\"react native\", \"flutter\", \"xamarin\"],\n",
    "        \"Тестирование\": [\"pytest\", \"junit\", \"selenium\", \"jest\", \"mocha\"]\n",
    "    },\n",
    "    \"DevOps\": {\n",
    "        \"Контейнеризация\": [\"docker\", \"kubernetes\", \"docker-compose\"],\n",
    "        \"CI/CD\": [\"jenkins\", \"gitlab ci\", \"github actions\", \"teamcity\"],\n",
    "        \"Облака\": [\"aws\", \"azure\", \"google cloud\", \"gcp\", \"amazon web services\"]\n",
    "    },\n",
    "    \"Frontend\": {\n",
    "        \"Основы\": [\"html\", \"css\", \"javascript\", \"html5\", \"css3\"],\n",
    "        \"Фреймворки\": [\"react\", \"angular\", \"vue.js\", \"svelte\"]\n",
    "    },\n",
    "    \"Backend\": {\n",
    "        \"Серверные языки\": [\"java\", \"c#\", \"python\", \"php\", \"ruby\", \"node.js\"],\n",
    "        \"API\": [\"rest\", \"graphql\", \"grpc\", \"soap\"]\n",
    "    },\n",
    "    \"Машинное обучение\": {\n",
    "        \"Основные библиотеки\": [\"tensorflow\", \"pytorch\", \"keras\", \"scikit-learn\", \"opencv\"],\n",
    "        \"Обработка данных\": [\"pandas\", \"numpy\", \"spark\", \"dask\", \"pyspark\"],\n",
    "        \"ML Ops\": [\"mlflow\", \"kubeflow\", \"airflow\", \"sagemaker\"],\n",
    "        \"Компьютерное зрение\": [\"opencv\", \"yolo\", \"detectron\", \"image processing\"],\n",
    "        \"NLP\": [\"nltk\", \"spacy\", \"transformers\", \"bert\", \"gpt\"]\n",
    "    },\n",
    "    \"Data Science\": {\n",
    "        \"Анализ данных\": [\"pandas\", \"numpy\", \"matplotlib\", \"seaborn\", \"plotly\"],\n",
    "        \"Визуализация\": [\"tableau\", \"power bi\", \"matplotlib\", \"seaborn\"],\n",
    "        \"Big Data\": [\"hadoop\", \"spark\", \"hive\", \"kafka\"]\n",
    "    }\n",
    "}"
   ]
  },
  {
   "cell_type": "code",
   "execution_count": 5,
   "metadata": {
    "execution": {
     "iopub.execute_input": "2025-06-28T10:42:50.509381Z",
     "iopub.status.busy": "2025-06-28T10:42:50.508675Z",
     "iopub.status.idle": "2025-06-28T10:42:50.514969Z",
     "shell.execute_reply": "2025-06-28T10:42:50.514115Z",
     "shell.execute_reply.started": "2025-06-28T10:42:50.509356Z"
    },
    "trusted": true
   },
   "outputs": [],
   "source": [
    "def get_vacancies_by_level(level_keyword, pages=20):\n",
    "    all_vacancies = []\n",
    "    for page in range(pages):\n",
    "        response = requests.get(\"https://api.hh.ru/vacancies\", params={\n",
    "            \"text\": f\"{level_keyword}\",\n",
    "            \"professional_role\": 96,\n",
    "            \"area\": 1,\n",
    "            \"per_page\": 100,\n",
    "            \"page\": page\n",
    "        })\n",
    "        data = response.json()\n",
    "        items = data.get(\"items\", [])\n",
    "        all_vacancies.extend(items)\n",
    "    return all_vacancies\n"
   ]
  },
  {
   "cell_type": "code",
   "execution_count": 6,
   "metadata": {
    "execution": {
     "iopub.execute_input": "2025-06-28T10:42:52.718459Z",
     "iopub.status.busy": "2025-06-28T10:42:52.718193Z",
     "iopub.status.idle": "2025-06-28T10:42:52.724827Z",
     "shell.execute_reply": "2025-06-28T10:42:52.724064Z",
     "shell.execute_reply.started": "2025-06-28T10:42:52.718440Z"
    },
    "trusted": true
   },
   "outputs": [],
   "source": [
    "def analyze_vacancies(vacancies):\n",
    "    analyzed = []\n",
    "    for v in vacancies:\n",
    "        try:\n",
    "            detail = requests.get(v[\"url\"]).json()\n",
    "            skills = [s[\"name\"].lower().strip() for s in detail.get(\"key_skills\", [])]\n",
    "            \n",
    "            if skills:\n",
    "                analyzed.append({\n",
    "                    \"skills_count\": len(skills),\n",
    "                    \"skills\": skills\n",
    "                })\n",
    "        except Exception as e:\n",
    "            print(f\"Error processing vacancy: {e}\")\n",
    "            continue\n",
    "    return analyzed"
   ]
  },
  {
   "cell_type": "code",
   "execution_count": 7,
   "metadata": {
    "execution": {
     "iopub.execute_input": "2025-06-28T10:42:54.977859Z",
     "iopub.status.busy": "2025-06-28T10:42:54.977331Z",
     "iopub.status.idle": "2025-06-28T10:42:54.984006Z",
     "shell.execute_reply": "2025-06-28T10:42:54.983144Z",
     "shell.execute_reply.started": "2025-06-28T10:42:54.977827Z"
    },
    "trusted": true
   },
   "outputs": [],
   "source": [
    "def analyze_skills_by_tree(vacancies, skills_tree):\n",
    "    skill_to_groups = defaultdict(list)\n",
    "    \n",
    "    # Строим обратное отображение: навык -> список его групп\n",
    "    for main_category, subcategories in skills_tree.items():\n",
    "        for subcategory, skills in subcategories.items():\n",
    "            for skill in skills:\n",
    "                skill_to_groups[skill].append((main_category, subcategory))\n",
    "    \n",
    "    results = []\n",
    "    \n",
    "    for vacancy in vacancies:\n",
    "        vacancy_skills = vacancy.get(\"skills\", [])\n",
    "        level_stats = defaultdict(int)\n",
    "        matched_main_categories = set()\n",
    "        \n",
    "        for skill in vacancy_skills:\n",
    "            for main_cat, sub_cat in skill_to_groups.get(skill, []):\n",
    "                matched_main_categories.add(main_cat)\n",
    "                level_stats[main_cat] += 1\n",
    "                level_stats[f\"{main_cat}/{sub_cat}\"] += 1\n",
    "        \n",
    "        results.append({\n",
    "            \"total_groups\": len(matched_main_categories),\n",
    "            \"groups\": list(matched_main_categories),\n",
    "            \"level_stats\": dict(level_stats)\n",
    "        })\n",
    "    \n",
    "    return results"
   ]
  },
  {
   "cell_type": "code",
   "execution_count": 8,
   "metadata": {
    "execution": {
     "iopub.execute_input": "2025-06-28T10:43:07.609592Z",
     "iopub.status.busy": "2025-06-28T10:43:07.609306Z",
     "iopub.status.idle": "2025-06-28T10:43:07.617128Z",
     "shell.execute_reply": "2025-06-28T10:43:07.616337Z",
     "shell.execute_reply.started": "2025-06-28T10:43:07.609569Z"
    },
    "trusted": true
   },
   "outputs": [],
   "source": [
    "def get_grade_statistics(pages_per_grade=5):\n",
    "    result = {}\n",
    "    \n",
    "    for grade in ['junior', 'middle', 'senior']:\n",
    "        try:\n",
    "            vacancies = get_vacancies_by_level(f\"{grade}\", pages=pages_per_grade)\n",
    "            analyzed_vacancies = analyze_vacancies(vacancies)\n",
    "            \n",
    "            if not analyzed_vacancies:\n",
    "                print(f\"Нет данных для анализа {grade}\")\n",
    "                result[grade] = {'mean_skills': 0.0, 'mean_main_categories': 0.0}\n",
    "                continue\n",
    "            \n",
    "            analysis_results = analyze_skills_by_tree(analyzed_vacancies, SKILLS_TREE)\n",
    "            \n",
    "            mean_skills = np.mean([len(v['skills']) for v in analyzed_vacancies if v.get('skills')])\n",
    "            \n",
    "            main_categories = set(SKILLS_TREE.keys())\n",
    "            category_counts = []\n",
    "            \n",
    "            for vacancy in analysis_results:\n",
    "                count = sum(1 for cat in main_categories if vacancy['level_stats'].get(cat, 0) > 0)\n",
    "                category_counts.append(count)\n",
    "            \n",
    "            mean_main_categories = np.mean(category_counts) if category_counts else 0.0\n",
    "            \n",
    "            result[grade] = {\n",
    "                'mean_skills': round(float(mean_skills), 2),\n",
    "                'mean_main_categories': round(float(mean_main_categories), 2)\n",
    "            }\n",
    "            \n",
    "        except Exception as e:\n",
    "            print(f\"Ошибка при обработке {grade}: {str(e)}\")\n",
    "            result[grade] = {'mean_skills': 0.0, 'mean_main_categories': 0.0}\n",
    "    \n",
    "    return result\n"
   ]
  },
  {
   "cell_type": "code",
   "execution_count": 9,
   "metadata": {
    "execution": {
     "iopub.execute_input": "2025-06-28T10:43:33.261638Z",
     "iopub.status.busy": "2025-06-28T10:43:33.260667Z",
     "iopub.status.idle": "2025-06-28T10:59:20.706327Z",
     "shell.execute_reply": "2025-06-28T10:59:20.705654Z",
     "shell.execute_reply.started": "2025-06-28T10:43:33.261606Z"
    },
    "trusted": true
   },
   "outputs": [
    {
     "name": "stdout",
     "output_type": "stream",
     "text": [
      "Результаты анализа по грейдам:\n",
      "junior:\n",
      "  Среднее количество навыков: 6.44\n",
      "  Среднее количество основных категорий: 2.27\n",
      "\n",
      "middle:\n",
      "  Среднее количество навыков: 6.9\n",
      "  Среднее количество основных категорий: 2.54\n",
      "\n",
      "senior:\n",
      "  Среднее количество навыков: 6.38\n",
      "  Среднее количество основных категорий: 2.09\n",
      "\n"
     ]
    }
   ],
   "source": [
    "stats = get_grade_statistics(pages_per_grade=10)\n",
    "print(\"Результаты анализа по грейдам:\")\n",
    "for grade, data in stats.items():\n",
    "    print(f\"{grade}:\")\n",
    "    print(f\"  Среднее количество навыков: {data['mean_skills']}\")\n",
    "    print(f\"  Среднее количество основных категорий: {data['mean_main_categories']}\")\n",
    "    print()"
   ]
  },
  {
   "cell_type": "markdown",
   "metadata": {},
   "source": [
    "### Здесь кончается первая часть, получили некую шкалу распределения грейдов по навыкам.\n",
    "### Но можно заметить, что уровень senior показывает среднее количество навыков меньше чем у других уровней и то же самое с охватом основных категорий из дерева навыков.\n",
    "### Мое предположение таково, что данных либо слишком мало, либо они не качественные.\n",
    "### Поэтому для следующей части а именно для генерации датасета я взял собственную шкалу, которая предполагает, что senior должен обладать большик количеством навыков и большим охватам по категорям навыков "
   ]
  },
  {
   "cell_type": "markdown",
   "metadata": {},
   "source": [
    "# Здесь начинается вторая часть: создание датасета, дообучение модели и оценка качества"
   ]
  },
  {
   "cell_type": "code",
   "execution_count": 10,
   "metadata": {
    "execution": {
     "iopub.execute_input": "2025-06-28T10:59:20.707901Z",
     "iopub.status.busy": "2025-06-28T10:59:20.707679Z",
     "iopub.status.idle": "2025-06-28T10:59:20.712900Z",
     "shell.execute_reply": "2025-06-28T10:59:20.712257Z",
     "shell.execute_reply.started": "2025-06-28T10:59:20.707885Z"
    },
    "trusted": true
   },
   "outputs": [],
   "source": [
    "tech_skills = {\n",
    "    'Programming': [\"c\", \"assembler\", \"rust\", \"go\", \"c++\", \"golang\", \"python\", \"java\", \"javascript\", \"c#\", \"php\", \"ruby\", \"typescript\", \"matlab\", \"haskell\", \"scala\", \"erlang\", \"clojure\", \"f#\", \"perl\", \"lua\", \"bash\"],\n",
    "    'Databases': [\"sql\", \"postgresql\", \"mysql\", \"oracle\", \"sql server\", \"postgres\", \"mongodb\", \"redis\", \"cassandra\", \"elasticsearch\", \"dynamodb\"],\n",
    "    'DevOps': [\"docker\", \"kubernetes\", \"docker-compose\", \"jenkins\", \"gitlab ci\", \"github actions\", \"teamcity\", \"aws\", \"azure\", \"google cloud\", \"gcp\", \"amazon web services\"],\n",
    "    'Frontend': [\"html\", \"css\", \"javascript\", \"html5\", \"css3\", \"react\", \"angular\", \"vue.js\", \"svelte\"],\n",
    "    'Data': [\"pandas\", \"numpy\", \"matplotlib\", \"seaborn\", \"plotly\", \"tableau\", \"power bi\", \"hadoop\", \"spark\", \"hive\", \"kafka\"],\n",
    "    'ML': [\"tensorflow\", \"pytorch\", \"keras\", \"scikit-learn\", \"opencv\", \"mlflow\", \"kubeflow\", \"airflow\", \"sagemaker\", \"yolo\", \"detectron\", \"image processing\", \"nltk\", \"spacy\", \"transformers\", \"bert\", \"gpt\"]\n",
    "}"
   ]
  },
  {
   "cell_type": "code",
   "execution_count": 11,
   "metadata": {
    "execution": {
     "iopub.execute_input": "2025-06-28T10:59:20.713754Z",
     "iopub.status.busy": "2025-06-28T10:59:20.713534Z",
     "iopub.status.idle": "2025-06-28T10:59:20.744743Z",
     "shell.execute_reply": "2025-06-28T10:59:20.744160Z",
     "shell.execute_reply.started": "2025-06-28T10:59:20.713740Z"
    },
    "trusted": true
   },
   "outputs": [],
   "source": [
    "def generate_resumes_advanced(num_resumes=500):\n",
    "    resumes = []\n",
    "    grades = ['junior', 'middle', 'senior']\n",
    "    skill_groups = list(tech_skills.keys())\n",
    "    \n",
    "    for _ in range(num_resumes):\n",
    "        grade = random.choice(grades)\n",
    "        current_skills = set()\n",
    "        \n",
    "        if grade == 'junior':\n",
    "            num_groups = random.randint(1, 2)\n",
    "            groups_to_use = random.sample(skill_groups, num_groups)\n",
    "            total_skills_to_add = random.randint(2, 4)\n",
    "        elif grade == 'middle':\n",
    "            num_groups = random.randint(2, 4)\n",
    "            groups_to_use = random.sample(skill_groups, num_groups)\n",
    "            total_skills_to_add = random.randint(5, 8)\n",
    "        else:\n",
    "            num_groups = random.randint(4, 6)\n",
    "            groups_to_use = random.sample(skill_groups, num_groups)\n",
    "            total_skills_to_add = random.randint(8, 12)\n",
    "            \n",
    "        for _ in range(total_skills_to_add):\n",
    "            group = random.choice(groups_to_use)\n",
    "            skill = random.choice(tech_skills[group])\n",
    "            current_skills.add(skill)\n",
    "        \n",
    "        skills_list = list(current_skills)\n",
    "        random.shuffle(skills_list)\n",
    "        skills_text = \", \".join(skills_list)\n",
    "        resumes.append({'grade': grade, 'skills_text': skills_text})\n",
    "    return pd.DataFrame(resumes)\n",
    "\n",
    "df_resumes = generate_resumes_advanced(num_resumes=2000)"
   ]
  },
  {
   "cell_type": "code",
   "execution_count": 12,
   "metadata": {
    "execution": {
     "iopub.execute_input": "2025-06-28T10:59:20.746850Z",
     "iopub.status.busy": "2025-06-28T10:59:20.746600Z",
     "iopub.status.idle": "2025-06-28T10:59:20.762478Z",
     "shell.execute_reply": "2025-06-28T10:59:20.761648Z",
     "shell.execute_reply.started": "2025-06-28T10:59:20.746832Z"
    },
    "trusted": true
   },
   "outputs": [],
   "source": [
    "label2id = {\"junior\": 0, \"middle\": 1, \"senior\": 2}\n",
    "id2label = {v: k for k, v in label2id.items()}\n",
    "df_resumes['label'] = df_resumes['grade'].map(label2id)\n",
    "\n",
    "train_df, val_df = train_test_split(df_resumes, test_size=0.2, stratify=df_resumes['label'], random_state=42)"
   ]
  },
  {
   "cell_type": "code",
   "execution_count": 18,
   "metadata": {
    "execution": {
     "iopub.execute_input": "2025-06-28T11:02:28.241123Z",
     "iopub.status.busy": "2025-06-28T11:02:28.240851Z",
     "iopub.status.idle": "2025-06-28T11:02:28.586078Z",
     "shell.execute_reply": "2025-06-28T11:02:28.585527Z",
     "shell.execute_reply.started": "2025-06-28T11:02:28.241105Z"
    },
    "trusted": true
   },
   "outputs": [],
   "source": [
    "class ResumeDataset(torch.utils.data.Dataset):\n",
    "    def __init__(self, df, tokenizer, max_length=128):\n",
    "        self.texts = df[\"skills_text\"].tolist()\n",
    "        self.labels = df[\"label\"].tolist()\n",
    "        self.tokenizer = tokenizer\n",
    "        self.max_length = max_length\n",
    "\n",
    "    def __len__(self):\n",
    "        return len(self.texts)\n",
    "    \n",
    "    def __getitem__(self, idx):\n",
    "        encoding = self.tokenizer(\n",
    "            self.texts[idx],\n",
    "            padding=\"max_length\",\n",
    "            truncation=True,\n",
    "            max_length=self.max_length,\n",
    "            return_tensors=\"pt\"\n",
    "        )\n",
    "        item = {key: val.squeeze() for key, val in encoding.items()}\n",
    "        item[\"labels\"] = torch.tensor(self.labels[idx], dtype=torch.long)\n",
    "        return item\n",
    "\n",
    "tokenizer = BertTokenizer.from_pretrained(\"bert-base-multilingual-cased\")\n",
    "train_dataset = ResumeDataset(train_df, tokenizer)\n",
    "val_dataset = ResumeDataset(val_df, tokenizer)"
   ]
  },
  {
   "cell_type": "code",
   "execution_count": 19,
   "metadata": {
    "execution": {
     "iopub.execute_input": "2025-06-28T11:02:31.926423Z",
     "iopub.status.busy": "2025-06-28T11:02:31.925875Z",
     "iopub.status.idle": "2025-06-28T11:02:32.178527Z",
     "shell.execute_reply": "2025-06-28T11:02:32.177942Z",
     "shell.execute_reply.started": "2025-06-28T11:02:31.926402Z"
    },
    "trusted": true
   },
   "outputs": [
    {
     "name": "stderr",
     "output_type": "stream",
     "text": [
      "Some weights of BertForSequenceClassification were not initialized from the model checkpoint at bert-base-multilingual-cased and are newly initialized: ['classifier.bias', 'classifier.weight']\n",
      "You should probably TRAIN this model on a down-stream task to be able to use it for predictions and inference.\n"
     ]
    }
   ],
   "source": [
    "model = BertForSequenceClassification.from_pretrained(\n",
    "    \"bert-base-multilingual-cased\",\n",
    "    num_labels=3,\n",
    "    id2label=id2label,\n",
    "    label2id=label2id\n",
    ")"
   ]
  },
  {
   "cell_type": "code",
   "execution_count": 15,
   "metadata": {
    "execution": {
     "iopub.execute_input": "2025-06-28T10:59:25.786311Z",
     "iopub.status.busy": "2025-06-28T10:59:25.786075Z",
     "iopub.status.idle": "2025-06-28T10:59:45.969544Z",
     "shell.execute_reply": "2025-06-28T10:59:45.968714Z",
     "shell.execute_reply.started": "2025-06-28T10:59:25.786294Z"
    },
    "trusted": true
   },
   "outputs": [
    {
     "name": "stderr",
     "output_type": "stream",
     "text": [
      "\u001b[34m\u001b[1mwandb\u001b[0m: Using wandb-core as the SDK backend.  Please refer to https://wandb.me/wandb-core for more information.\n"
     ]
    },
    {
     "data": {
      "text/html": [
       "Tracking run with wandb version 0.19.9"
      ],
      "text/plain": [
       "<IPython.core.display.HTML object>"
      ]
     },
     "metadata": {},
     "output_type": "display_data"
    },
    {
     "data": {
      "text/html": [
       "W&B syncing is set to <code>`offline`<code> in this directory.  <br>Run <code>`wandb online`<code> or set <code>WANDB_MODE=online<code> to enable cloud syncing."
      ],
      "text/plain": [
       "<IPython.core.display.HTML object>"
      ]
     },
     "metadata": {},
     "output_type": "display_data"
    },
    {
     "data": {
      "text/html": [
       "<button onClick=\"this.nextSibling.style.display='block';this.style.display='none';\">Display W&B run</button><iframe src='?jupyter=true' style='border:none;width:100%;height:420px;display:none;'></iframe>"
      ],
      "text/plain": [
       "<wandb.sdk.wandb_run.Run at 0x7f1e9cb0a290>"
      ]
     },
     "execution_count": 15,
     "metadata": {},
     "output_type": "execute_result"
    }
   ],
   "source": [
    "import wandb\n",
    "wandb.init(mode=\"offline\")"
   ]
  },
  {
   "cell_type": "code",
   "execution_count": 16,
   "metadata": {
    "execution": {
     "iopub.execute_input": "2025-06-28T10:59:45.970888Z",
     "iopub.status.busy": "2025-06-28T10:59:45.970569Z",
     "iopub.status.idle": "2025-06-28T11:01:38.435117Z",
     "shell.execute_reply": "2025-06-28T11:01:38.434505Z",
     "shell.execute_reply.started": "2025-06-28T10:59:45.970848Z"
    },
    "trusted": true
   },
   "outputs": [
    {
     "name": "stderr",
     "output_type": "stream",
     "text": [
      "/tmp/ipykernel_35/1144587949.py:20: FutureWarning: `tokenizer` is deprecated and will be removed in version 5.0.0 for `Trainer.__init__`. Use `processing_class` instead.\n",
      "  trainer = Trainer(\n",
      "\u001b[34m\u001b[1mwandb\u001b[0m: \u001b[33mWARNING\u001b[0m The `run_name` is currently set to the same value as `TrainingArguments.output_dir`. If this was not intended, please specify a different run name by setting the `TrainingArguments.run_name` parameter.\n",
      "/usr/local/lib/python3.11/dist-packages/torch/nn/parallel/_functions.py:70: UserWarning: Was asked to gather along dimension 0, but all input tensors were scalars; will instead unsqueeze and return a vector.\n",
      "  warnings.warn(\n"
     ]
    },
    {
     "data": {
      "text/html": [
       "\n",
       "    <div>\n",
       "      \n",
       "      <progress value='300' max='300' style='width:300px; height:20px; vertical-align: middle;'></progress>\n",
       "      [300/300 01:49, Epoch 3/3]\n",
       "    </div>\n",
       "    <table border=\"1\" class=\"dataframe\">\n",
       "  <thead>\n",
       " <tr style=\"text-align: left;\">\n",
       "      <th>Step</th>\n",
       "      <th>Training Loss</th>\n",
       "    </tr>\n",
       "  </thead>\n",
       "  <tbody>\n",
       "    <tr>\n",
       "      <td>50</td>\n",
       "      <td>0.720100</td>\n",
       "    </tr>\n",
       "    <tr>\n",
       "      <td>100</td>\n",
       "      <td>0.418600</td>\n",
       "    </tr>\n",
       "    <tr>\n",
       "      <td>150</td>\n",
       "      <td>0.363400</td>\n",
       "    </tr>\n",
       "    <tr>\n",
       "      <td>200</td>\n",
       "      <td>0.316100</td>\n",
       "    </tr>\n",
       "    <tr>\n",
       "      <td>250</td>\n",
       "      <td>0.263100</td>\n",
       "    </tr>\n",
       "    <tr>\n",
       "      <td>300</td>\n",
       "      <td>0.256500</td>\n",
       "    </tr>\n",
       "  </tbody>\n",
       "</table><p>"
      ],
      "text/plain": [
       "<IPython.core.display.HTML object>"
      ]
     },
     "metadata": {},
     "output_type": "display_data"
    },
    {
     "data": {
      "text/plain": [
       "TrainOutput(global_step=300, training_loss=0.3896357313791911, metrics={'train_runtime': 111.2618, 'train_samples_per_second': 43.141, 'train_steps_per_second': 2.696, 'total_flos': 315736101273600.0, 'train_loss': 0.3896357313791911, 'epoch': 3.0})"
      ]
     },
     "execution_count": 16,
     "metadata": {},
     "output_type": "execute_result"
    }
   ],
   "source": [
    "training_args = TrainingArguments(\n",
    "    output_dir=\"./results\",\n",
    "    num_train_epochs=3,\n",
    "    per_device_train_batch_size=8,\n",
    "    per_device_eval_batch_size=8,\n",
    "    learning_rate=2e-5,\n",
    "    weight_decay=0.01,\n",
    "    logging_dir=\"./logs\",\n",
    "    logging_steps=50,\n",
    ")\n",
    "\n",
    "data_collator = DataCollatorWithPadding(tokenizer)\n",
    "\n",
    "def compute_metrics(pred):\n",
    "    labels = pred.label_ids\n",
    "    preds = np.argmax(pred.predictions, axis=1)\n",
    "    acc = accuracy_score(labels, preds)\n",
    "    return {\"accuracy\": acc}\n",
    "\n",
    "trainer = Trainer(\n",
    "    model=model,\n",
    "    args=training_args,\n",
    "    train_dataset=train_dataset,\n",
    "    eval_dataset=val_dataset,\n",
    "    tokenizer=tokenizer,\n",
    "    data_collator=data_collator,\n",
    "    compute_metrics=compute_metrics,\n",
    ")\n",
    "\n",
    "trainer.train()"
   ]
  },
  {
   "cell_type": "code",
   "execution_count": 17,
   "metadata": {
    "execution": {
     "iopub.execute_input": "2025-06-28T11:01:38.436431Z",
     "iopub.status.busy": "2025-06-28T11:01:38.436122Z",
     "iopub.status.idle": "2025-06-28T11:01:41.541465Z",
     "shell.execute_reply": "2025-06-28T11:01:41.540828Z",
     "shell.execute_reply.started": "2025-06-28T11:01:38.436400Z"
    },
    "trusted": true
   },
   "outputs": [
    {
     "name": "stderr",
     "output_type": "stream",
     "text": [
      "/usr/local/lib/python3.11/dist-packages/torch/nn/parallel/_functions.py:70: UserWarning: Was asked to gather along dimension 0, but all input tensors were scalars; will instead unsqueeze and return a vector.\n",
      "  warnings.warn(\n"
     ]
    },
    {
     "data": {
      "text/html": [],
      "text/plain": [
       "<IPython.core.display.HTML object>"
      ]
     },
     "metadata": {},
     "output_type": "display_data"
    },
    {
     "name": "stdout",
     "output_type": "stream",
     "text": [
      "\n",
      "Accuracy на валидации: 88.75%\n",
      "\n",
      "Classification Report:\n",
      "              precision    recall  f1-score   support\n",
      "\n",
      "      junior       0.90      0.99      0.94       125\n",
      "      middle       0.90      0.76      0.82       139\n",
      "      senior       0.87      0.92      0.89       136\n",
      "\n",
      "    accuracy                           0.89       400\n",
      "   macro avg       0.89      0.89      0.89       400\n",
      "weighted avg       0.89      0.89      0.88       400\n",
      "\n"
     ]
    },
    {
     "data": {
      "image/png": "[encoded data removed]",
      "text/plain": [
       "<Figure size 640x480 with 2 Axes>"
      ]
     },
     "metadata": {},
     "output_type": "display_data"
    }
   ],
   "source": [
    "preds = trainer.predict(val_dataset)\n",
    "y_true = preds.label_ids\n",
    "y_pred = np.argmax(preds.predictions, axis=1)\n",
    "\n",
    "acc = accuracy_score(y_true, y_pred)\n",
    "print(f\"\\nAccuracy на валидации: {acc:.2%}\\n\")\n",
    "print(\"Classification Report:\")\n",
    "print(classification_report(y_true, y_pred, target_names=list(label2id.keys())))\n",
    "\n",
    "conf_matrix = confusion_matrix(y_true, y_pred)\n",
    "sns.heatmap(conf_matrix, annot=True, fmt='d', cmap='Blues', \n",
    "            xticklabels=label2id.keys(), yticklabels=label2id.keys())\n",
    "plt.xlabel(\"Предсказанный\")\n",
    "plt.ylabel(\"Истинный\")\n",
    "plt.title(\"Матрица ошибок\")\n",
    "plt.show()"
   ]
  },
  {
   "cell_type": "markdown",
   "metadata": {},
   "source": [
    "## По результатам можно видеть, что модель после дообучения показывает очень хороший результат, а именно accuracy = 89%.\n",
    "## Так же привел Confusion Matrix, чтобы можно было увидеть где модель ошибается"
   ]
  }
 ],
 "metadata": {
  "kaggle": {
   "accelerator": "nvidiaTeslaT4",
   "dataSources": [],
   "dockerImageVersionId": 31041,
   "isGpuEnabled": true,
   "isInternetEnabled": true,
   "language": "python",
   "sourceType": "notebook"
  },
  "kernelspec": {
   "display_name": "Python 3",
   "language": "python",
   "name": "python3"
  },
  "language_info": {
   "codemirror_mode": {
    "name": "ipython",
    "version": 3
   },
   "file_extension": ".py",
   "mimetype": "text/x-python",
   "name": "python",
   "nbconvert_exporter": "python",
   "pygments_lexer": "ipython3",
   "version": "3.11.11"
  }
 },
 "nbformat": 4,
 "nbformat_minor": 4
}
